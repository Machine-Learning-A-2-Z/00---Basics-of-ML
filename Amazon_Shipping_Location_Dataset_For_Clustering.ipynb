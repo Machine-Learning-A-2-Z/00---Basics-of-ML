{
  "nbformat": 4,
  "nbformat_minor": 0,
  "metadata": {
    "colab": {
      "provenance": []
    },
    "kernelspec": {
      "name": "python3",
      "display_name": "Python 3"
    },
    "language_info": {
      "name": "python"
    }
  },
  "cells": [
    {
      "cell_type": "code",
      "execution_count": 13,
      "metadata": {
        "id": "7V4FzLKpPRc0"
      },
      "outputs": [],
      "source": [
        "lt, lg = 27.253528, 83.580198  # chowk bazar maharajganj, uttar pradesh central shipping"
      ]
    },
    {
      "cell_type": "code",
      "source": [
        "import random"
      ],
      "metadata": {
        "id": "E5L-q2NjPbTX"
      },
      "execution_count": 14,
      "outputs": []
    },
    {
      "cell_type": "code",
      "source": [
        "rand_lt, rand_lg = random.randint(0, 10000), random.randint(0, 10000)"
      ],
      "metadata": {
        "id": "IYX-Dll2PeVN"
      },
      "execution_count": 15,
      "outputs": []
    },
    {
      "cell_type": "code",
      "source": [
        "rand_lt, rand_lg"
      ],
      "metadata": {
        "colab": {
          "base_uri": "https://localhost:8080/"
        },
        "id": "k_cHilqbQPJn",
        "outputId": "183ddf7d-3b3c-4c8d-acd6-d4b4cd52b614"
      },
      "execution_count": 16,
      "outputs": [
        {
          "output_type": "execute_result",
          "data": {
            "text/plain": [
              "(3043, 1591)"
            ]
          },
          "metadata": {},
          "execution_count": 16
        }
      ]
    },
    {
      "cell_type": "code",
      "source": [
        "\n",
        "data = [\n",
        "    ['latitude', 'longitude', 'Product ID']]  # Let's assume it is a list of lists\n",
        "\n",
        "for i in range(500):  # 500 data points\n",
        "    rand_lt, rand_lg = random.randint(0, 10000), random.randint(0, 10000)\n",
        "    Add_or_subs_lt = random.randint(0, 1)\n",
        "    Add_or_subs_lg = random.randint(0, 1)\n",
        "\n",
        "    if Add_or_subs_lt == 1:\n",
        "        lt += rand_lt / 1000000\n",
        "    else:\n",
        "        lt -= rand_lt / 1000000\n",
        "\n",
        "    if Add_or_subs_lg == 1:\n",
        "        lg += rand_lg / 1000000\n",
        "    else:\n",
        "        lg -= rand_lg / 1000000\n",
        "\n",
        "    productID = random.randbytes(4).hex()\n",
        "\n",
        "    data.append([lt, lg, productID])\n",
        "\n",
        "dataframe = pd.DataFrame(data[1:], columns=data[0])\n",
        "dataframe.to_csv('Amazon_Today_Delivery_Shipping_Location_data.csv', index=False)\n",
        "\n",
        "print(\"CSV file has been created successfully.\")"
      ],
      "metadata": {
        "colab": {
          "base_uri": "https://localhost:8080/"
        },
        "id": "CskOuh7-QQj5",
        "outputId": "33ebfeff-7cb7-4dca-bab5-8bdb92080fc9"
      },
      "execution_count": 33,
      "outputs": [
        {
          "output_type": "stream",
          "name": "stdout",
          "text": [
            "CSV file has been created successfully.\n"
          ]
        }
      ]
    },
    {
      "cell_type": "code",
      "source": [],
      "metadata": {
        "id": "g8ldS5mpS5yd"
      },
      "execution_count": null,
      "outputs": []
    }
  ]
}