{
  "nbformat": 4,
  "nbformat_minor": 0,
  "metadata": {
    "colab": {
      "provenance": []
    },
    "kernelspec": {
      "name": "python3",
      "display_name": "Python 3"
    },
    "language_info": {
      "name": "python"
    }
  },
  "cells": [
    {
      "cell_type": "markdown",
      "source": [
        "# **Single Variate Linear Regression**"
      ],
      "metadata": {
        "id": "fNijLF9qUUxt"
      }
    },
    {
      "cell_type": "markdown",
      "source": [
        "Let's understand Single variate linear regression with a simplest example.\n",
        "\n",
        "\n",
        "```\n",
        "Logical Question\n",
        "\n",
        "---\n",
        "\n",
        " 1, 2, 3, 4, 5, 6, 7, 8, 9, ?, 11, 12, 13, 14,?\n",
        "\n",
        "\n",
        "Fill the missing value.\n",
        "I hope the problem is clear.\n",
        "\n",
        "\n",
        "\n",
        "```\n",
        "\n"
      ],
      "metadata": {
        "id": "idTsiyTpUtG2"
      }
    },
    {
      "cell_type": "markdown",
      "source": [
        "I know most of you have got the answer, these are 10 and 15.\n",
        "\n",
        "**How did you got the answer?**\n",
        "Yes, it common sense! But what's logic behind this common sense. Let me tell you,\n",
        "\n",
        "\n",
        "\n",
        "```\n",
        "# in mathematics we can write it as\n",
        "y = x\n",
        "```\n",
        "\n",
        "\n",
        "\n",
        "```\n",
        "\n",
        "Me: I think we can write the above data as follows -\n",
        "\n",
        "\n",
        "INDEX, VALUE\n",
        "\n",
        "1.   1\n",
        "2.   2\n",
        "3.   3\n",
        "4.   4\n",
        "5.   5\n",
        "6.   6\n",
        "7.   7\n",
        "8.   8\n",
        "9.   9\n",
        "10.  **10**\n",
        "11.  11\n",
        "12.  12\n",
        "13.  13\n",
        "14.  14\n",
        "15.  **15**\n",
        "\n",
        "\n",
        "Me: isn't it fine?\n",
        "```\n",
        "\n",
        "\n",
        "\n"
      ],
      "metadata": {
        "id": "qTJrnM7WVw3n"
      }
    },
    {
      "cell_type": "markdown",
      "source": [
        "Greate !\n",
        "\n",
        "____\n",
        "**What about the following one**\n",
        "# **Question 2**\n",
        "\n",
        "\n",
        "\n",
        "```\n",
        "x    y\n",
        "\n",
        "\n",
        "1.   3\n",
        "2.   5\n",
        "3.   7\n",
        "4.   9\n",
        "5.   **?**\n",
        "6.   13\n",
        "7.   15\n",
        "8.   17\n",
        "9.   19\n",
        "10.  **?**\n",
        "11.  23\n",
        "12.  25\n",
        "13.  27\n",
        "14.  29\n",
        "15.  **?**\n",
        "\n",
        "\n",
        "```\n",
        "\n",
        "\n",
        "So, what will be the mathematical expression for this dataset\n",
        "\n",
        "\n",
        "\n",
        "```\n",
        "# As we can see\n",
        "\n",
        "y = 2x + 1\n",
        "```\n",
        "\n",
        "\n",
        "\n",
        "\n",
        "```\n",
        "\n",
        "Me: Perfect ! isn't it is easy.\n",
        "\n",
        "You: Now how the computer will learn these thing ?\n",
        "\n",
        "Me: Answer is how did you learned this ? By guess or from memory or you have followed the mathematical process and got the equation.\n",
        "\n",
        "```\n",
        "\n",
        "\n",
        "\n"
      ],
      "metadata": {
        "id": "huq7f1rFXxy4"
      }
    },
    {
      "cell_type": "markdown",
      "source": [
        "# **How to teach same thing so that computer can also learn these pattern and answer if we give some value of x ?**\n",
        "\n"
      ],
      "metadata": {
        "id": "Kwnh6ce7biLE"
      }
    },
    {
      "cell_type": "markdown",
      "source": [
        "Let's look at the dataset and try to figure out how to programm or teach computer.\n",
        "\n",
        "\n",
        "\n",
        "```\n",
        "# let's assume a general single variate (x) equation,\n",
        "\n",
        "y = m x  +  c\n",
        "\n",
        "\n",
        "Oh, yeah it's equation of line\n",
        "```\n",
        "\n"
      ],
      "metadata": {
        "id": "q5o-BtF2cDWY"
      }
    },
    {
      "cell_type": "markdown",
      "source": [
        "\n",
        "\n",
        "```\n",
        "# In problem 1, expression was:\n",
        "\n",
        "y = x       it means, here m = 1 and c = 0\n",
        "\n",
        "OK...\n",
        "\n",
        "Me: what about problem 2,\n",
        "\n",
        "You: y = 2 x  +  1        here m = 2, and c = 1\n",
        "\n",
        "\n",
        "You: What do you want to say ? for every problem there is an mathematical equation ??\n",
        "\n",
        "Me: - Yeah\n",
        "\n",
        "ou: And we need to find **m** and **c** for each problem?\n",
        "\n",
        "Me: - Yes\n",
        "\n",
        "You: But I have forgotton the method which I was taugh in my high shool\n",
        "\n",
        "Me: - :) Ok it's fine\n",
        "\n",
        "\n",
        "\n",
        "```\n",
        "\n"
      ],
      "metadata": {
        "id": "hcgfVUQpcrDH"
      }
    },
    {
      "cell_type": "markdown",
      "source": [
        "\n",
        "\n",
        "```\n",
        "Me: can we write the problem first as follows ?\n",
        "\n",
        " y1 = m * 1   +   c    => y1 = m + c\n",
        "\n",
        " y2 = m * 2   +   c    => y2 = 2m + c\n",
        "\n",
        " y3 = m * 3   +   c    => y3 = 3m + c\n",
        "\n",
        " ..... and so on\n",
        "\n",
        "\n",
        "  Got it ?\n",
        "\n",
        "You: Yes, if we have right m and c then the problem is sort out\n",
        "\n",
        "Me: Yes !\n",
        "\n",
        "You: Can we choose some value of m and c and keep changing untill it satisfy our all data point ?\n",
        "\n",
        "Me: Yes, since m and c and be any real number so it's diffict to choose touple.\n",
        "\n",
        "You: Oh yeah, from my observation I can say m and c is depent on y and x\n",
        "\n",
        "Me: Yes, so ?\n",
        "\n",
        "You: And we are having actual value of y, for respective x.\n",
        "\n",
        "Me: Hmmm, I think you are going in right way. We can say value after puting into equation will be predicted value\n",
        "\n",
        "You: Ok, so if we have y_pred and y_actual. Is it ?\n",
        "\n",
        "Me: Yes, now for each points we can find how much error is there in y_actual and y_pred\n",
        "\n",
        "You: Yes, please ellaborate !\n",
        "\n",
        "Me: OK,\n",
        "\n",
        "e1 = y_actual_1 - y_pred_1    for sample 1, 1\n",
        "\n",
        "e2 = y_actual_2 - y_pred_2    for sample 2, 2\n",
        "\n",
        "e3 = y_actual_3 - y_pred_3    for sample 3, 3\n",
        "\n",
        "... and so on..\n",
        "\n",
        "You: Got it.\n",
        "\n",
        "Me: Good, Don't you think, the errors, I mean e1, e2, e3, ... e15 should be as less as possible ?\n",
        "\n",
        "You: Yes,\n",
        "\n",
        "Me: Do you agree if I say, total error should be minimum\n",
        "\n",
        "You: Yes,\n",
        "\n",
        "Me: Let's sum up the all errors and find total error\n",
        "\n",
        "E = e1 + e2 + e3 + .... + e15\n",
        "\n",
        "You: Ok\n",
        "\n",
        "Me: Can we write above like this:\n",
        "\n",
        "E = Summation(ei)     where, i in [1: 15]\n",
        "\n",
        "You: Got it, but what about if there are n points in sample data\n",
        "\n",
        "Me: Ok let's assume there are n points,\n",
        "So, E = Summation(ei)   where i in [1, n]\n",
        "\n",
        "You: Got it !\n",
        "\n",
        "Me: can we write ei as follows\n",
        "\n",
        "ei = yi - y_pred_i    => ei = yi - (m * xi  +  c)\n",
        "\n",
        "You: Yes\n",
        "\n",
        "\n",
        "```\n",
        "\n"
      ],
      "metadata": {
        "id": "Ai4QRybpezgm"
      }
    },
    {
      "cell_type": "markdown",
      "source": [
        "**How to minimize loss or error**\n",
        "\n",
        "\n",
        "\n",
        "```\n",
        "You: Our expression is following, How to minimize the equation ?\n",
        "\n",
        "E = Summation( yi - m * xi  -  c )\n",
        "\n",
        "Me: Yeah, now we want to optimize the function\n",
        "\n",
        "E = Summation( yi - m * xi  -  c )    where i in [1, n]\n",
        "\n",
        "You: Yes,\n",
        "\n",
        "Me: Do you remember what were you doing during high school days to optimize function, here it is to minimize.\n",
        "\n",
        "You: Yes, we can find derivates and since m and c are variable, so we can do partial derivate of E with respect to m and c.\n",
        "\n",
        "Me: Then ?\n",
        "\n",
        "You: dE/dm  = 0, dE/dc = 0\n",
        "\n",
        "Me: Greate, We have two equation and two variables m, and c\n",
        "\n",
        "You: Yes, we can solve and find expression for m and c\n",
        "\n",
        "Me: Good !\n",
        "\n",
        "\n",
        "```\n",
        "\n"
      ],
      "metadata": {
        "id": "Dg8i7vkLsYOV"
      }
    },
    {
      "cell_type": "markdown",
      "source": [
        "**Finding Derivate of E with respect to m and c**\n",
        "\n",
        "\n",
        "\n",
        "```\n",
        "You: Let me do this !\n",
        "\n",
        "  dE/dm = - Summation(xi)     ----- (1)\n",
        "  dE/dc = - Summation(1) = - n ---- (2)\n",
        "\n",
        "  But, equation 1, 2 will don't give any info about m and c, I think equation E = Summation( yi - m * xi - c) is not sufficient. And equation 2 can be invalid also because n can't be 0.\n",
        "\n",
        "Me: Yes, nice observation !\n",
        "\n",
        "You: What to do to get best value of m and c ?\n",
        "\n",
        "Me: Wait, let's assume e1 = e2 = ... = e14 = 5, and e15 = -70 so in such situation overall loss is 0 but loss is loss and indivisually it is having loss or error. We should change the optimization function, isn't ?\n",
        "\n",
        "You: Yes, so how to do ?\n",
        "\n",
        "Me: To mitigate this issue, there may be several technique, some may be\n",
        "\n",
        "\n",
        "1.   Take mod of each error and then find loss let's call it L: L1 norms\n",
        "      \n",
        "      L = |e1| + |e2| + .... + |en|        -------- (3)\n",
        "\n",
        "2.   Take square of each error point and then sum up: L2 norms\n",
        "\n",
        "      L = e1^2 + e2^2 + e3^2 + .... + en^2   ------ (4)\n",
        "\n",
        "You: But in first method L is still linear equation and it will not be differentiable with respect to m and c as we have seen.\n",
        "\n",
        "Me: Yes, equation (4) is solving both the problems, +ve -ve loss and differentiabily.\n",
        "\n",
        "You: Yes, I think now we can optimize equation (4)\n",
        "\n",
        "Me: L = Summation( ( yi - m * xi  -  c) ^ 2)\n",
        "\n",
        "```\n",
        "\n",
        "**Optimization of L = Summation( (yi - m * xi - c) ^ 2)**\n",
        "\n",
        "\n"
      ],
      "metadata": {
        "id": "p7rBhSUgv8sJ"
      }
    },
    {
      "cell_type": "markdown",
      "source": [
        "\n",
        "\n",
        "```\n",
        "You: Let me do this,\n",
        "\n",
        "Me: OK,\n",
        "\n",
        "You:\n",
        "\n",
        "    dL/dm = Summation{ - 2 xi ( yi - m * xi - c) } = 0    ----- (5)\n",
        "    dL/dc = - 2 Summation( yi - m * xi - c) = 0            ----- (6)\n",
        "\n",
        "    or,\n",
        "\n",
        "      Summation{ xi * yi  -  m * (xi) ^ 2  - c * xi } = 0\n",
        "      Summation(xi * yi) - m Summation( (xi) ^ 2) - c Summation(xi) = 0  --- (7)\n",
        "\n",
        "    and,\n",
        "\n",
        "      Summation(yi - m * xi - c) = 0\n",
        "      Summation(yi) - m Summation(xi) - c Summation(1) = 0    --- (8)\n",
        "\n",
        "Me: Good, now we have eqn 7 and 8, and we want to find m and c,\n",
        "\n",
        "    Let's say Y = mean of y = Summation(yi) / n\n",
        "    and, X = mean of x = Summation(xi) / n\n",
        "\n",
        "You: Yes, so we can write equation 8 as,\n",
        "\n",
        "    Y - m * X - c  = 0  => c = Y - m * X\n",
        "    \n",
        "    from eqn. 7\n",
        "\n",
        "    Summation(xi * yi) - m Summation( (xi) ^ 2) - Summation(xi) * ( Y - m * X) = 0\n",
        "\n",
        "    =>\n",
        "    m = { Summation(xi * yi) - Y Summation(xi) } / { Summation( (xi) ^ 2) - X Summation(xi) }\n",
        "\n",
        "    =>\n",
        "    m = { Summation( xi * yi) - n XY } / { Summation( (xi) ^ 2) - n (X ^ 2) } ---- (9)\n",
        "\n",
        "    value of c\n",
        "\n",
        "    c = Y - m * X\n",
        "    c = { Y Summation( (xi) ^ 2) - X Summation( xi * yi) } / { Summation( (xi) ^ 2) - n * (X ^ 2) }   --- (10)\n",
        "    \n",
        "\n",
        "      \n",
        "\n",
        "```\n",
        "\n"
      ],
      "metadata": {
        "id": "kCR9E4UdSvM-"
      }
    },
    {
      "cell_type": "markdown",
      "source": [
        "**Final Expression of m and c**\n",
        "\n",
        "\n",
        "\n",
        "```\n",
        "Me: Wow, :) So final equations are:\n",
        "\n",
        "    m = { Summation(xi * yi) - n XY } / { Summation((xi) ^ 2) - n (X ^ 2) }\n",
        "\n",
        "    c = { Y Summation((xi) ^ 2) - X Summation(xi * yi) } / { Summation((xi) ^ 2) - n * (X ^ 2) }   \n",
        "\n",
        "You: Yeah :)\n",
        "\n",
        "```\n",
        "\n"
      ],
      "metadata": {
        "id": "V8LSDlEtYcZ1"
      }
    },
    {
      "cell_type": "markdown",
      "source": [
        "# Let's solve the problem 1\n",
        "\n",
        "\n",
        "\n",
        "```\n",
        "x = [1, 2, 3, 4, 5, 6, 7, 8, 9, 10, 11, 12, 13, 14, 15]\n",
        "y = [1, 2, 3, 4, 5, 6, 7, 8, 9, ?, 11, 12, 13, 14, ?]\n",
        "\n",
        "x = 10 and x = 15 is for testing\n",
        "```\n",
        "\n"
      ],
      "metadata": {
        "id": "CmCjxUxDaJq5"
      }
    },
    {
      "cell_type": "code",
      "source": [
        "x = [i for i in range(1, 15)]\n",
        "y = [i for i in range(1, 15)]\n",
        "\n"
      ],
      "metadata": {
        "id": "xBiVvCYvaI_U"
      },
      "execution_count": 53,
      "outputs": []
    },
    {
      "cell_type": "code",
      "source": [
        "# let's remove x = 10, 15 and y = 10, 15\n",
        "x_train = x[:9] + x[10: 14]\n",
        "x_train"
      ],
      "metadata": {
        "id": "-dhSUF_BcqNl",
        "colab": {
          "base_uri": "https://localhost:8080/"
        },
        "outputId": "be9a781c-34b4-44f8-cd81-bf74ca46b004"
      },
      "execution_count": 54,
      "outputs": [
        {
          "output_type": "execute_result",
          "data": {
            "text/plain": [
              "[1, 2, 3, 4, 5, 6, 7, 8, 9, 11, 12, 13, 14]"
            ]
          },
          "metadata": {},
          "execution_count": 54
        }
      ]
    },
    {
      "cell_type": "code",
      "source": [
        "y_train = y[:9] + y[10: 14]\n",
        "y_train"
      ],
      "metadata": {
        "id": "LUfL7tz8aW0G",
        "colab": {
          "base_uri": "https://localhost:8080/"
        },
        "outputId": "b90149b2-78d9-4696-b226-3ad4b71ec75d"
      },
      "execution_count": 55,
      "outputs": [
        {
          "output_type": "execute_result",
          "data": {
            "text/plain": [
              "[1, 2, 3, 4, 5, 6, 7, 8, 9, 11, 12, 13, 14]"
            ]
          },
          "metadata": {},
          "execution_count": 55
        }
      ]
    },
    {
      "cell_type": "code",
      "source": [
        "# import numpy for mathematical operation\n",
        "import numpy as np"
      ],
      "metadata": {
        "id": "MC1YU2DKXuiT"
      },
      "execution_count": 56,
      "outputs": []
    },
    {
      "cell_type": "code",
      "execution_count": 57,
      "metadata": {
        "id": "sfT03L7aUGml"
      },
      "outputs": [],
      "source": [
        "x_train = np.array(x_train)\n",
        "y_train = np.array(y_train)"
      ]
    },
    {
      "cell_type": "code",
      "source": [
        "# mean of x\n",
        "n = x_train.size\n",
        "X = np.sum(x_train)/ n\n",
        "Y = np.mean(y_train)      # build in mean function"
      ],
      "metadata": {
        "id": "hAd5CANocFPl"
      },
      "execution_count": 58,
      "outputs": []
    },
    {
      "cell_type": "markdown",
      "source": [
        "**calculate m**\n",
        "\n",
        "\n",
        "\n",
        "```\n",
        "  m = { Summation(xi * yi) - n XY } / { Summation((xi) ^ 2) - n (X ^ 2) }\n",
        "```\n",
        "\n"
      ],
      "metadata": {
        "id": "mvy82_7kcnNJ"
      }
    },
    {
      "cell_type": "code",
      "source": [
        "sum_xi_yi = np.sum(np.multiply(x_train, y_train))\n",
        "\n",
        "print(\"summation( xi * yi) = \", sum_xi_yi)\n"
      ],
      "metadata": {
        "colab": {
          "base_uri": "https://localhost:8080/"
        },
        "id": "lrhEkJOucmWI",
        "outputId": "96d184ea-42da-4107-a398-7363046bf997"
      },
      "execution_count": 59,
      "outputs": [
        {
          "output_type": "stream",
          "name": "stdout",
          "text": [
            "summation( xi * yi) =  915\n"
          ]
        }
      ]
    },
    {
      "cell_type": "code",
      "source": [
        "nXY = n * X * Y\n",
        "print(\"nXY = \", nXY)"
      ],
      "metadata": {
        "colab": {
          "base_uri": "https://localhost:8080/"
        },
        "id": "HOBUK7hXcOAW",
        "outputId": "a3c64ce9-5f60-42e5-ffd9-9f415cb3b99d"
      },
      "execution_count": 60,
      "outputs": [
        {
          "output_type": "stream",
          "name": "stdout",
          "text": [
            "nXY =  694.2307692307692\n"
          ]
        }
      ]
    },
    {
      "cell_type": "code",
      "source": [
        "sum_xi_square = np.sum(np.square(x_train))\n",
        "print(\"sum xi ^ 2 = \", sum_xi_square)"
      ],
      "metadata": {
        "colab": {
          "base_uri": "https://localhost:8080/"
        },
        "id": "0lxGre_zet1W",
        "outputId": "3a9e6ae1-524b-403c-802b-064dc8800c2d"
      },
      "execution_count": 61,
      "outputs": [
        {
          "output_type": "stream",
          "name": "stdout",
          "text": [
            "sum xi ^ 2 =  915\n"
          ]
        }
      ]
    },
    {
      "cell_type": "code",
      "source": [
        "nX2 = n * np.square(X)\n",
        "print(\"n (X ^ 2) = \", nX2)"
      ],
      "metadata": {
        "colab": {
          "base_uri": "https://localhost:8080/"
        },
        "id": "xPpI2emifFxG",
        "outputId": "0de65cfe-4445-49db-e59c-085b84119fc2"
      },
      "execution_count": 62,
      "outputs": [
        {
          "output_type": "stream",
          "name": "stdout",
          "text": [
            "n (X ^ 2) =  694.2307692307692\n"
          ]
        }
      ]
    },
    {
      "cell_type": "code",
      "source": [
        "m = (sum_xi_yi - nXY) / (sum_xi_square - nX2)\n",
        "print(\"m = \", m)"
      ],
      "metadata": {
        "colab": {
          "base_uri": "https://localhost:8080/"
        },
        "id": "sk6_SY1KfZmy",
        "outputId": "4a4de9c6-9440-4005-89b5-cc7a6d1b19c5"
      },
      "execution_count": 63,
      "outputs": [
        {
          "output_type": "stream",
          "name": "stdout",
          "text": [
            "m =  1.0\n"
          ]
        }
      ]
    },
    {
      "cell_type": "markdown",
      "source": [
        "**Calculating c**\n",
        "\n",
        "\n",
        "```\n",
        "c = { Y Summation((xi) ^ 2) - X Summation(xi * yi) } / { Summation((xi) ^ 2) - n * (X ^ 2) }  \n",
        "```\n",
        "\n"
      ],
      "metadata": {
        "id": "M-0Lmf9ff1nc"
      }
    },
    {
      "cell_type": "code",
      "source": [
        "Y_Sum_xi_squres = Y * sum_xi_square\n",
        "print(\"Y Summation((xi) ^ 2) = \", Y_Sum_xi_squres )"
      ],
      "metadata": {
        "colab": {
          "base_uri": "https://localhost:8080/"
        },
        "id": "3kqTfjDifuOC",
        "outputId": "2ef94076-8dd8-4010-cc44-b5177e8b3d42"
      },
      "execution_count": 64,
      "outputs": [
        {
          "output_type": "stream",
          "name": "stdout",
          "text": [
            "Y Summation((xi) ^ 2) =  6686.538461538461\n"
          ]
        }
      ]
    },
    {
      "cell_type": "code",
      "source": [
        "X_Sum_xi_yi = X * sum_xi_yi\n",
        "\n",
        "print(\" X Summation(xi * yi) = \", X_Sum_xi_yi)"
      ],
      "metadata": {
        "colab": {
          "base_uri": "https://localhost:8080/"
        },
        "id": "ExY5vz44g1VW",
        "outputId": "12f89f38-56c1-4d2f-d242-011cab1b1e54"
      },
      "execution_count": 65,
      "outputs": [
        {
          "output_type": "stream",
          "name": "stdout",
          "text": [
            " X Summation(xi * yi) =  6686.538461538461\n"
          ]
        }
      ]
    },
    {
      "cell_type": "code",
      "source": [
        "c  = (Y_Sum_xi_squres - X_Sum_xi_yi) / (sum_xi_square - nX2)\n",
        "c"
      ],
      "metadata": {
        "colab": {
          "base_uri": "https://localhost:8080/"
        },
        "id": "L0WZhFghhHAe",
        "outputId": "9e4dd9cb-8f75-43d1-b65f-19b6df32fc6e"
      },
      "execution_count": 66,
      "outputs": [
        {
          "output_type": "execute_result",
          "data": {
            "text/plain": [
              "0.0"
            ]
          },
          "metadata": {},
          "execution_count": 66
        }
      ]
    },
    {
      "cell_type": "markdown",
      "source": [
        "**finally**\n"
      ],
      "metadata": {
        "id": "YVztU0WNhdrJ"
      }
    },
    {
      "cell_type": "code",
      "source": [
        "print(\"m = \", m, \"\\n\", \"c = \", c)"
      ],
      "metadata": {
        "colab": {
          "base_uri": "https://localhost:8080/"
        },
        "id": "btbUSHjbhZY5",
        "outputId": "2cc56565-58ba-45b9-f99a-48ccd2d87e5d"
      },
      "execution_count": 67,
      "outputs": [
        {
          "output_type": "stream",
          "name": "stdout",
          "text": [
            "m =  1.0 \n",
            " c =  0.0\n"
          ]
        }
      ]
    },
    {
      "cell_type": "markdown",
      "source": [
        "\n",
        "\n",
        "```\n",
        "You: Hehe, Yes, got it ! :)\n",
        "\n",
        "Me: Hurraahhh !\n",
        "```\n",
        "\n"
      ],
      "metadata": {
        "id": "bKcEmtqyhwHU"
      }
    },
    {
      "cell_type": "markdown",
      "source": [
        "# Let's organise the code"
      ],
      "metadata": {
        "id": "FgQlBqsIiFLW"
      }
    },
    {
      "cell_type": "code",
      "source": [
        "# import\n",
        "\n",
        "import numpy as np"
      ],
      "metadata": {
        "id": "5P3xtztkidjj"
      },
      "execution_count": 68,
      "outputs": []
    },
    {
      "cell_type": "code",
      "source": [
        "def calculate_m_and_c(x_train, y_train):\n",
        "  # mean of x\n",
        "  n = x_train.size\n",
        "  X = np.sum(x_train)/ n\n",
        "  Y = np.mean(y_train)      # build in mean function\n",
        "\n",
        "  sum_xi_yi = np.sum(np.multiply(x_train, y_train))\n",
        "  print(\"summation( xi * yi) = \", sum_xi_yi)\n",
        "\n",
        "  nXY = n * X * Y\n",
        "  print(\"nXY = \", nXY)\n",
        "\n",
        "  sum_xi_square = np.sum(np.square(x_train))\n",
        "  print(\"sum xi ^ 2 = \", sum_xi_square)\n",
        "\n",
        "  nX2 = n * np.square(X)\n",
        "  print(\"n (X ^ 2) = \", nX2)\n",
        "\n",
        "  m = (sum_xi_yi - nXY) / (sum_xi_square - nX2)\n",
        "  print(\"m = \", m)\n",
        "\n",
        "  Y_Sum_xi_squres = Y * sum_xi_square\n",
        "  print(\"Y Summation((xi) ^ 2) = \", Y_Sum_xi_squres )\n",
        "\n",
        "  X_Sum_xi_yi = X * sum_xi_yi\n",
        "  print(\" X Summation(xi * yi) = \", X_Sum_xi_yi)\n",
        "\n",
        "  c  = (Y_Sum_xi_squres - X_Sum_xi_yi) / (sum_xi_square - nX2)\n",
        "\n",
        "  return m, c\n"
      ],
      "metadata": {
        "id": "g-x7A9g-hr-J"
      },
      "execution_count": 69,
      "outputs": []
    },
    {
      "cell_type": "markdown",
      "source": [
        "**Let's solve problem 2**\n",
        "\n",
        "\n",
        "\n",
        "```\n",
        "x = [1, 2, 3, 4, 5, 6, 7, 8, 9, 10, 11, 12, 13, 14, 15]\n",
        "y = [3, 5, 7, 9, 11, 13, 15, 17, ?, 21, 23, 25, 27, ?]\n",
        "```\n",
        "\n"
      ],
      "metadata": {
        "id": "BFvxsDzBjSwo"
      }
    },
    {
      "cell_type": "code",
      "source": [
        "x = [1, 2, 3, 4, 5, 6, 7, 8, 9, 10, 11, 12, 13, 14, 15]\n",
        "y = [3, 5, 7, 9, 11, 13, 15, 17, 19, '?', 23, 25, 27, 29, '?']"
      ],
      "metadata": {
        "id": "UVWSb_0hjQNy"
      },
      "execution_count": 75,
      "outputs": []
    },
    {
      "cell_type": "code",
      "source": [
        "# filter the dataset\n",
        "x_train = x[:9] + x[10: 14]\n",
        "y_train = y[:9] + y[10: 14]\n",
        "\n",
        "# convert into numpy array\n",
        "x_train = np.array(x_train)\n",
        "# Remove the '?' strings and convert to numeric type\n",
        "y_train = np.array([int(item) for item in y_train if item != '?'])\n"
      ],
      "metadata": {
        "id": "_ENPmdCTj5Zc"
      },
      "execution_count": 76,
      "outputs": []
    },
    {
      "cell_type": "code",
      "source": [
        "m, c = calculate_m_and_c(x_train = x_train, y_train = y_train)"
      ],
      "metadata": {
        "colab": {
          "base_uri": "https://localhost:8080/"
        },
        "id": "AVa9p1dJkROi",
        "outputId": "629dc982-08da-498c-9d66-9273cd469839"
      },
      "execution_count": 77,
      "outputs": [
        {
          "output_type": "stream",
          "name": "stdout",
          "text": [
            "summation( xi * yi) =  1925\n",
            "nXY =  1483.4615384615383\n",
            "sum xi ^ 2 =  915\n",
            "n (X ^ 2) =  694.2307692307692\n",
            "m =  2.0\n",
            "Y Summation((xi) ^ 2) =  14288.076923076922\n",
            " X Summation(xi * yi) =  14067.307692307691\n"
          ]
        }
      ]
    },
    {
      "cell_type": "code",
      "source": [
        "def predict(x, m, c):\n",
        "  return m * x + c"
      ],
      "metadata": {
        "id": "dObtoO-0l0Q3"
      },
      "execution_count": 79,
      "outputs": []
    },
    {
      "cell_type": "code",
      "source": [
        "\n",
        "question = 0\n",
        "while True:\n",
        "  x = input(\"Enter the value of x: \")\n",
        "  if x == 'stop':\n",
        "    break\n",
        "  x = int(x)\n",
        "  y = predict(x, m, c)\n",
        "  print(\"y = \", m, \"x + \", c, \" = \", y)\n",
        ""
      ],
      "metadata": {
        "colab": {
          "base_uri": "https://localhost:8080/"
        },
        "id": "APmBiQQpkblm",
        "outputId": "da503a9a-21d3-4f83-a954-a62badee7d7f"
      },
      "execution_count": 81,
      "outputs": [
        {
          "name": "stdout",
          "output_type": "stream",
          "text": [
            "Enter the value of x: 10\n",
            "y =  2.0 x +  0.9999999999999984  =  21.0\n",
            "Enter the value of x: 300\n",
            "y =  2.0 x +  0.9999999999999984  =  601.0\n",
            "Enter the value of x: 88\n",
            "y =  2.0 x +  0.9999999999999984  =  177.0\n",
            "Enter the value of x: 15\n",
            "y =  2.0 x +  0.9999999999999984  =  31.0\n",
            "Enter the value of x: stop\n"
          ]
        }
      ]
    },
    {
      "cell_type": "markdown",
      "source": [
        "**Conclusion**\n",
        "\n",
        "\n",
        "\n",
        "```\n",
        "You: wow, it's amazing\n",
        "\n",
        "Me: My pleasure, Do you have any doubt ?\n",
        "\n",
        "You: I will post into comment box if I have. Thank You so much\n",
        "```\n",
        "\n"
      ],
      "metadata": {
        "id": "Zp8536yDmmp3"
      }
    },
    {
      "cell_type": "code",
      "source": [],
      "metadata": {
        "id": "5s-o4mV2mIR1"
      },
      "execution_count": null,
      "outputs": []
    }
  ]
}